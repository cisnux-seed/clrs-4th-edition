{
 "cells": [
  {
   "cell_type": "code",
   "execution_count": 8,
   "metadata": {},
   "outputs": [],
   "source": [
    "def insertion_sort(a, is_ascending=True):\n",
    "  for i in range(1,len(a)):\n",
    "    key = a[i]\n",
    "    # insert a[i] into the sorted subarray a[1:i-1]\n",
    "    j = i-1\n",
    "    if is_ascending:\n",
    "      while j > -1 and a[j] > key:\n",
    "        a[j+1] = a[j]\n",
    "        j -=1 #-> j-=1\n",
    "    else:\n",
    "      while j > -1 and a[j] < key:\n",
    "        a[j+1] = a[j]\n",
    "        j -=1 #-> j = j-1\n",
    "    # If all the cards in your left hand have values greater than the card in your right hand,\n",
    "    # then place this card as the leftmost card in your left hand.\n",
    "    a[j+1] = key"
   ]
  },
  {
   "cell_type": "code",
   "execution_count": 14,
   "metadata": {},
   "outputs": [
    {
     "name": "stdout",
     "output_type": "stream",
     "text": [
      "unsorted a = [31, 41, 59, 26, 41, 58]\n",
      "sorted a = [26, 31, 41, 41, 58, 59]\n"
     ]
    }
   ],
   "source": [
    "# a = [3,5,2,1,4]\n",
    "a = [31,41,59,26,41,58]\n",
    "\n",
    "print(f\"unsorted a = {a}\")\n",
    "# insertion_sort(a,is_ascending=False)\n",
    "insertion_sort(a)\n",
    "print(f\"sorted a = {a}\")"
   ]
  }
 ],
 "metadata": {
  "kernelspec": {
   "display_name": "Python 3",
   "language": "python",
   "name": "python3"
  },
  "language_info": {
   "codemirror_mode": {
    "name": "ipython",
    "version": 3
   },
   "file_extension": ".py",
   "mimetype": "text/x-python",
   "name": "python",
   "nbconvert_exporter": "python",
   "pygments_lexer": "ipython3",
   "version": "3.12.0"
  }
 },
 "nbformat": 4,
 "nbformat_minor": 2
}
